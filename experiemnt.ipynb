{
 "cells": [
  {
   "cell_type": "code",
   "execution_count": 1,
   "id": "82045149-98c6-40b4-bfbf-361861b6e964",
   "metadata": {},
   "outputs": [],
   "source": [
    "def generate_retrieval_data_without_hn(interactions, tokenizer, type):\n",
    "    \"\"\"\n",
    "    Generate table retrieval data, without hard negatives.\n",
    "    Return: \n",
    "    [\n",
    "        {\n",
    "            \"question\": \"....\",\n",
    "            \"answers\": [\"...\", \"...\", \"...\"],\n",
    "            \"positive_ctxs\": [{\n",
    "                \"title\": \"...\",\n",
    "                \"text\": \"....\"\n",
    "            }]\n",
    "        },\n",
    "        ...\n",
    "    ]\n",
    "    \"\"\"\n",
    "    print(\"==== Now Generating table retrieval dataset without hard negatives. ====\")\n",
    "\n",
    "    tb_retrieval_data = []\n",
    "    count = 0\n",
    "    for it_object in tqdm(interactions):\n",
    "        data = {}\n",
    "        table = it_object[\"table\"]\n",
    "        title = table[\"documentTitle\"]\n",
    "        question = it_object[\"questions\"][0][\"originalText\"]\n",
    "        answers = it_object[\"questions\"][0][\"answer\"][\"answerTexts\"]\n",
    "        \n",
    "        data[\"question\"] = question\n",
    "        data[\"answers\"] = answers\n",
    "        \n",
    "        positive_context = {}\n",
    "        linearized_column, psg_list, _, _, _  = gen_table_passages(table, tokenizer)\n",
    "        gold_psg = \"\"\n",
    "        max_answer_num = 0\n",
    "        for psg in psg_list:\n",
    "            psg = tokenizer.decode(tokenizer.convert_tokens_to_ids(psg))\n",
    "            num_answers_found = answer_count(answers, psg, tokenizer)\n",
    "            if num_answers_found > max_answer_num:\n",
    "                max_answer_num = num_answers_found\n",
    "                gold_psg = psg\n",
    "        \n",
    "        gold_text = linearized_column + \" [SEP] \" + gold_psg\n",
    "        positive_context[\"title\"] = title\n",
    "        positive_context[\"text\"] = gold_text\n",
    "        data[\"positive_ctxs\"] = [positive_context]\n",
    "        tb_retrieval_data.append(data)\n",
    "\n",
    "    if type == \"train\":\n",
    "        with open(\"table_train.json\", \"w\") as f:\n",
    "            json.dump(tb_retrieval_data, f)\n",
    "    elif type == \"dev\":\n",
    "        with open(\"table_dev.json\", \"w\") as f:\n",
    "            json.dump(tb_retrieval_data, f)\n",
    "    print(\"Saving of retrieval data done.\")\n",
    "    print(f\"Number of q/a pairs: Train: {len(tb_retrieval_data)}\")\n"
   ]
  },
  {
   "cell_type": "code",
   "execution_count": 3,
   "id": "f1887174-f26e-4dfe-8ea2-ab0943ad1ed3",
   "metadata": {},
   "outputs": [],
   "source": [
    "import json\n",
    "import pickle\n",
    "import csv \n",
    "from transformers.tokenization_bert import BertTokenizer\n",
    "from tqdm import tqdm\n"
   ]
  },
  {
   "cell_type": "code",
   "execution_count": 4,
   "id": "f37b4b8c-4912-4e8f-ba9b-c759fb781444",
   "metadata": {},
   "outputs": [],
   "source": [
    "tok = BertTokenizer.from_pretrained(\"bert-base-uncased\", lower=True)"
   ]
  },
  {
   "cell_type": "code",
   "execution_count": 6,
   "id": "24488fce-5466-4531-8eef-c01cf2f94d9b",
   "metadata": {},
   "outputs": [
    {
     "ename": "AttributeError",
     "evalue": "'list' object has no attribute 'words'",
     "output_type": "error",
     "traceback": [
      "\u001b[0;31m---------------------------------------------------------------------------\u001b[0m",
      "\u001b[0;31mAttributeError\u001b[0m                            Traceback (most recent call last)",
      "\u001b[0;32m/tmp/ipykernel_6352/3864485391.py\u001b[0m in \u001b[0;36m<module>\u001b[0;34m\u001b[0m\n\u001b[0;32m----> 1\u001b[0;31m \u001b[0mb\u001b[0m \u001b[0;34m=\u001b[0m \u001b[0mtok\u001b[0m\u001b[0;34m.\u001b[0m\u001b[0mtokenize\u001b[0m\u001b[0;34m(\u001b[0m\u001b[0mtext\u001b[0m\u001b[0;34m)\u001b[0m\u001b[0;34m.\u001b[0m\u001b[0mwords\u001b[0m\u001b[0;34m(\u001b[0m\u001b[0muncased\u001b[0m\u001b[0;34m=\u001b[0m\u001b[0;32mTrue\u001b[0m\u001b[0;34m)\u001b[0m\u001b[0;34m\u001b[0m\u001b[0;34m\u001b[0m\u001b[0m\n\u001b[0m\u001b[1;32m      2\u001b[0m \u001b[0mb\u001b[0m\u001b[0;34m\u001b[0m\u001b[0;34m\u001b[0m\u001b[0m\n",
      "\u001b[0;31mAttributeError\u001b[0m: 'list' object has no attribute 'words'"
     ]
    }
   ],
   "source": [
    "b = tok.tokenize(text).words(uncased=True)\n",
    "b"
   ]
  },
  {
   "cell_type": "code",
   "execution_count": null,
   "id": "30377bda-ca14-48a1-a92b-9f64fbad1213",
   "metadata": {},
   "outputs": [],
   "source": []
  }
 ],
 "metadata": {
  "kernelspec": {
   "display_name": "Python 3 (ipykernel)",
   "language": "python",
   "name": "python3"
  },
  "language_info": {
   "codemirror_mode": {
    "name": "ipython",
    "version": 3
   },
   "file_extension": ".py",
   "mimetype": "text/x-python",
   "name": "python",
   "nbconvert_exporter": "python",
   "pygments_lexer": "ipython3",
   "version": "3.8.11"
  }
 },
 "nbformat": 4,
 "nbformat_minor": 5
}
