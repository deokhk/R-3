{
 "cells": [
  {
   "cell_type": "code",
   "execution_count": 9,
   "id": "79cbf16b-8df7-4ac1-8081-dd51efaaeae4",
   "metadata": {},
   "outputs": [],
   "source": [
    "import json\n",
    "with open(\"filtered_table.json\", 'r') as f:\n",
    "    tb = json.load(f)"
   ]
  },
  {
   "cell_type": "code",
   "execution_count": 33,
   "id": "3e849d6c-4c83-4367-8377-d9921ff4e2db",
   "metadata": {},
   "outputs": [
    {
     "name": "stdout",
     "output_type": "stream",
     "text": [
      "{'columns': [{'text': ''}, {'text': ''}, {'text': 'Born'}, {'text': 'Residence'}, {'text': 'Occupation'}, {'text': 'Years\\xa0active'}, {'text': 'Height'}, {'text': 'Television'}, {'text': 'Children'}], 'rows': [{'cells': [{'text': 'Lesley Joseph'}, {'text': 'Joseph in Cardiff, Wales, May 2011'}, {'text': 'Lesley Diana Joseph  14 October 1945 (age\\xa072) Finsbury Park, Haringey, London, England'}, {'text': 'Hampstead, North London'}, {'text': 'Broadcaster, actress'}, {'text': '1969–present'}, {'text': '5\\xa0ft 2\\xa0in (1.57\\xa0m)'}, {'text': 'Birds of a Feather'}, {'text': '2'}]}], 'tableId': 'Lesley Joseph_A1D55A57012E3362', 'documentTitle': 'Lesley Joseph', 'documentUrl': 'https://en.wikipedia.org//w/index.php?title=Lesley_Joseph&amp;oldid=843506707'}\n"
     ]
    },
    {
     "data": {
      "text/plain": [
       "[{'text': ''},\n",
       " {'text': ''},\n",
       " {'text': 'Born'},\n",
       " {'text': 'Residence'},\n",
       " {'text': 'Occupation'},\n",
       " {'text': 'Years\\xa0active'},\n",
       " {'text': 'Height'},\n",
       " {'text': 'Television'},\n",
       " {'text': 'Children'}]"
      ]
     },
     "execution_count": 33,
     "metadata": {},
     "output_type": "execute_result"
    }
   ],
   "source": [
    "for elem in tb:\n",
    "    print(elem)\n",
    "    break\n",
    "elem[\"columns\"]"
   ]
  },
  {
   "cell_type": "code",
   "execution_count": 13,
   "id": "9067e99b-2601-4a12-bde9-a5e509bf045f",
   "metadata": {},
   "outputs": [],
   "source": [
    "def test_filtering_correctness(single_table):\n",
    "    column_satisfy = True\n",
    "    row_satisfy = True\n",
    "    value_satisfy = True\n",
    "    header_equal_value = True\n",
    "    header_num = len(single_table[\"columns\"])\n",
    "    row_num = len(single_table[\"rows\"])\n",
    "    value_num = header_num * row_num\n",
    "    for row in single_table[\"rows\"]:\n",
    "        cells = row[\"cells\"]\n",
    "        if len(cells) != header_num:\n",
    "            return False\n",
    "    if header_num <= 50 and row_num <=100 and value_num <=500:\n",
    "        return True\n",
    "    return False"
   ]
  },
  {
   "cell_type": "code",
   "execution_count": 5,
   "id": "d0dd1712-8a7a-40e6-ab1c-8d4ccfda72b6",
   "metadata": {},
   "outputs": [],
   "source": [
    "header_num = len(elem[\"columns\"])\n",
    "row_num = len(elem[\"rows\"])\n",
    "value_num = header_num * row_num"
   ]
  },
  {
   "cell_type": "code",
   "execution_count": 6,
   "id": "3ee26163-c2b3-469b-a1db-fabe397d8d13",
   "metadata": {},
   "outputs": [
    {
     "data": {
      "text/plain": [
       "(9, 1, 9)"
      ]
     },
     "execution_count": 6,
     "metadata": {},
     "output_type": "execute_result"
    }
   ],
   "source": [
    "header_num, row_num, value_num"
   ]
  },
  {
   "cell_type": "code",
   "execution_count": 14,
   "id": "d029783c-3938-4b0e-a156-96774898fe05",
   "metadata": {},
   "outputs": [],
   "source": [
    "for single_table in tb:\n",
    "    verification_res = test_filtering_correctness(single_table)\n",
    "    if verification_res == False:\n",
    "        print(\"corrupted data was detected\")\n",
    "        break"
   ]
  },
  {
   "cell_type": "code",
   "execution_count": 16,
   "id": "c951def3-dce9-4f53-a27b-7b19f5a83983",
   "metadata": {},
   "outputs": [],
   "source": [
    "import pickle\n",
    "with open(\"column_ids_list_without_special_token.pickle\", \"rb\") as f:\n",
    "    data = pickle.load(f)\n"
   ]
  },
  {
   "cell_type": "code",
   "execution_count": 22,
   "id": "5323ce06-c28e-4307-985e-885e808f15f7",
   "metadata": {},
   "outputs": [],
   "source": [
    "import csv\n",
    "f = open(\"/home/deokhk/research/MultiQA/model/DPR/dpr/downloads/data/wikipedia_split/table_w100_without_special_token.tsv\", newline='') \n",
    "tb_passage_reader= csv.reader(f, delimiter='\\t')"
   ]
  },
  {
   "cell_type": "code",
   "execution_count": 24,
   "id": "0acd43eb-a301-402e-8a27-2d2bd3e19f8c",
   "metadata": {},
   "outputs": [],
   "source": [
    "tb_passage_list = []\n",
    "for line in tb_passage_reader:\n",
    "    tb_passage_list.append(line)"
   ]
  },
  {
   "cell_type": "code",
   "execution_count": 29,
   "id": "4e9f17ab-39ec-47bf-af2f-315de885d86a",
   "metadata": {},
   "outputs": [
    {
     "name": "stdout",
     "output_type": "stream",
     "text": [
      "[0, 0, 0, 0, 0, 0, 2, 2, 2, 2, 0, 3, 3, 3, 3, 0, 4, 4, 4, 4, 4, 4, 4, 4, 0, 5, 5, 5, 5, 5, 5, 5, 5, 5, 0, 6, 6, 6, 6, 6, 6, 6, 6, 6, 6, 0, 7, 7, 7, 7, 7, 7, 7, 7, 7, 7, 0, 8, 8, 8, 8, 8, 8, 8, 8, 8, 8, 0, 9, 9, 9, 9, 9, 9, 0, 10, 10, 10, 10, 10, 10, 10, 10, 10, 10, 0, 11, 11, 11, 11, 11, 11, 11, 11, 11, 11, 0, 12, 12, 12, 12, 12, 12, 12, 12, 12, 12, 0, 13, 13, 13, 13, 13, 13, 13, 13, 13, 13, 0, 14, 14, 14, 14, 14, 14, 14, 14, 14, 14, 14, 0, 15, 15, 15, 15, 15, 15, 15, 15, 15, 15, 0, 16, 16, 16, 16, 16, 16, 16, 16, 16, 16, 16, 0, 17, 17, 17, 17, 17, 0, 18, 18, 18, 18, 18, 18, 18, 18, 18, 0, 19, 19, 19, 19, 19, 19, 19, 19, 19, 19, 0, 20, 20, 20, 20, 20, 20, 20, 20, 20, 20, 20, 20, 20, 0, 21, 21, 21, 21, 21, 21, 21, 21, 21, 21, 0, 22, 22, 22, 22, 22, 22, 22, 22, 22, 22, 22, 22, 22, 0, 23, 23, 23, 23, 23, 23, 23, 23, 23, 23, 23, 23, 0, 24, 24, 24, 24, 24, 24, 24, 24, 24, 24, 0, 25, 25, 25, 25, 25, 25, 25, 25, 25, 25, 0, 26, 26, 26, 26, 26, 26, 26, 26, 26, 26, 26, 26, 26, 0, 27, 27, 27, 27, 27, 27, 27, 27, 27, 27, 27, 0, 28, 28, 28, 28, 28, 28, 28, 28, 28, 28, 0, 29, 29, 29, 29, 29, 29, 29, 29, 29, 29, 29, 29, 29, 0, 30, 30, 30, 30, 30, 30, 30, 30, 30, 30, 30, 30, 30, 0, 31, 31, 31, 31, 31, 31, 31, 31, 31, 31, 31, 31, 31, 0, 32, 32, 32, 32, 32, 0, 33, 33, 33, 33, 33, 33, 33, 33, 33, 33, 33, 33, 0, 34, 34, 34, 34, 34, 34, 34, 34, 34, 34, 34, 34, 34, 34, 34, 34, 34, 34, 34, 34, 0, 35, 35, 35, 35, 35, 35, 35, 35, 35, 35, 0, 36, 36, 36, 36, 36, 36, 36, 36, 36, 36, 36, 0, 37, 37, 37, 37, 37, 37, 37, 37, 37, 37, 37, 37, 0, 38, 38, 38, 38, 38, 38, 38, 38, 38, 0, 39, 39, 39, 39, 39, 39, 39, 39, 39, 39, 39, 0, 40, 40, 40, 40, 40, 40, 40, 0, 41, 41, 41, 41, 41, 41, 41, 41, 41, 41, 41, 41, 0, 42, 42, 42, 42, 42, 42, 42, 42, 42, 42, 42, 42, 0, 43, 43, 43, 43, 43, 43, 43, 43, 43, 43, 43, 43, 0, 44, 44, 44, 44, 44, 44, 44, 44, 44, 44, 44, 0, 45, 45, 45, 45, 45, 45, 45, 45, 45, 45, 45, 45, 45, 0, 46, 46, 46, 46, 46, 46, 46, 46, 46, 46, 46, 0, 47, 47, 47, 47, 47, 47, 47, 47, 47, 47, 0, 48, 48, 48, 48, 48, 48, 48, 48, 48, 48, 48, 0, 49, 49, 49, 49, 49, 49, 49, 49, 49, 0, 50, 50, 50, 50, 50, 50, 50, 50, 50, 50, 50, 50, 0, 51, 51, 51, 51, 51, 51, 51, 51, 51, 51, 0, 52, 52, 52, 52, 52, 52, 52, 52, 52, 52, 0, 53, 53, 53, 53, 53, 53, 53, 53, 53, 53, 53, 53, 53, 0, 54, 54, 54, 54, 54, 54, 54, 54, 54, 54, 54, 54, 0, 55, 55, 55, 55, 55, 55, 55, 55, 55, 55, 55, 55, 55, 55, 0, 56, 56, 56, 56, 56, 56, 56, 56, 56, 56, 56, 0, 57, 57, 57, 57, 57, 57, 57, 57, 57, 57, 0, 58, 58, 58, 58, 58, 58, 58, 58, 58, 58, 0, 59, 59, 59, 59, 59, 59, 59, 59, 59, 59, 59, 0, 60, 60, 60, 60, 60, 60, 60, 60, 60, 60, 60, 0, 61, 61, 61, 61, 61, 61, 61, 61, 61, 61, 61, 61, 61, 61, 61, 61, 61, 61, 61, 61, 61, 61, 61, 61, 0, 62, 62, 62, 62, 62, 62, 62, 62, 62, 62, 62, 0, 63, 63, 63, 63, 63, 63, 63, 63, 63, 0, 64, 64, 64, 64, 64, 64, 64, 64, 64, 64, 64, 64, 64, 64, 0, 65, 65, 65, 65, 65, 65, 65, 0, 66, 66, 66, 66, 66, 66, 66, 66, 66, 66, 0, 67, 67, 67, 67, 67, 67, 67, 67, 67, 67, 67, 67, 67, 0, 68, 68, 68, 68, 68, 68, 68, 68, 68, 68, 0, 69, 69, 69, 69, 69, 69, 69, 69, 69, 69, 69, 0, 70, 70, 70, 70, 70, 70, 70, 70, 70, 70, 70, 0, 71, 71, 71, 71, 71, 0, 72, 72, 72, 72, 72, 72, 72, 72, 72, 72, 0, 73, 73, 73, 73, 73, 73, 73, 73, 0, 74, 74, 74, 74, 74, 74, 74, 74, 74, 74, 0, 75, 75, 75, 75, 75, 75, 75, 75, 75, 75, 0, 76, 76, 76, 76, 76, 76, 76, 76, 76, 76, 76, 76, 76, 0, 77, 77, 77, 77, 77, 77, 77, 77, 77, 77, 77, 77, 77, 77, 77, 0, 78, 78, 78, 78, 78, 78, 78, 78, 78, 78, 78, 78, 78, 0, 79, 79, 79, 79, 79, 79, 79, 79, 79, 79, 0, 80, 80, 80, 80, 80, 80, 80, 80, 80, 80, 0, 81, 81, 81, 81, 81, 81, 81, 81, 81, 81, 81, 81, 0, 82, 82, 82, 82, 82, 82, 82, 82, 82, 0, 83, 83, 83, 83, 83, 83, 83, 83, 83, 83, 83, 0, 84, 84, 84, 84, 84, 84, 84, 84, 84, 0, 85, 85, 85, 85, 85, 85, 85, 85, 85, 85, 85, 85, 85, 85, 85, 85, 85, 85, 85, 85, 85, 85, 85, 85, 0, 86, 86, 86, 86, 86, 86, 86, 86, 86, 86, 86, 86, 86, 0, 87, 87, 87, 87, 87, 87, 87, 87, 87, 87, 87, 0, 88, 88, 88, 88, 88, 88, 88, 88, 88, 88, 0, 89, 89, 89, 89, 89, 89, 89, 89, 89, 89, 89, 89, 89, 89, 89, 0, 90, 90, 90, 90, 90, 90, 90, 90, 90, 90, 90, 90, 90, 90, 90, 90, 0, 91, 91, 91, 91, 0, 92, 92, 92, 92, 92, 0, 93, 93, 93, 93, 93, 93, 93, 93, 93, 93, 93, 93, 93, 93, 93, 93, 0, 94, 94, 94, 94, 94, 94, 94, 94, 94, 94, 94, 0, 95, 95, 95, 95, 95, 95, 95, 95, 95, 95, 95, 0, 96, 96, 96, 96, 96, 96, 96, 96, 96, 96, 96, 0, 97, 97, 97, 97, 97, 97, 97, 97, 97, 97, 97, 97, 0, 98, 98, 98, 98, 98, 98, 98, 98, 98, 98, 0, 99, 99, 99, 99, 99, 99, 99, 99, 99, 0, 100, 100, 100, 100, 100, 100, 100, 100, 100, 100, 100, 100, 100, 100, 0, 101, 101, 101, 101, 101, 101, 101, 101, 101, 101, 101, 0, 102, 102, 102, 102, 102, 102, 102, 102, 102, 102, 0, 103, 103, 103, 103, 103, 103, 103, 103, 0, 104, 104, 104, 104, 104, 104, 104, 104, 104, 104, 104, 0, 105, 105, 105, 105, 105, 105, 105, 105, 105, 105, 105, 105, 105, 105, 105, 105, 0, 106, 106, 106, 106, 106, 106, 106, 106, 106, 106, 0, 107, 107, 107, 107, 107, 107, 107, 107, 107, 107, 0, 108, 108, 108, 108, 108, 108, 108, 108, 108, 108, 0, 109, 109, 109, 109, 109, 109, 109, 109, 109, 109, 109, 109, 0, 110, 110, 110, 110, 110, 110, 110, 110, 110, 110, 110, 0, 111, 111, 111, 111, 111, 111, 111, 111, 111, 111, 111, 111, 111, 111, 111, 111, 0, 112, 112, 112, 112, 112, 112, 112, 112, 112, 0, 113, 113, 113, 113, 113, 113, 113, 113, 113, 113, 113, 0, 114, 114, 114, 114, 114, 114, 114, 114, 114, 114, 114, 114, 114, 114, 114, 0, 1, 0, 0, 0, 0, 0, 0, 0, 0, 0, 0, 0, 0, 0, 0, 0, 0, 0, 0, 0, 0, 0, 0, 0, 0, 0, 0, 0, 0, 0, 0, 0, 0, 0, 0, 0, 0, 0, 0, 0, 0, 0, 0, 0, 0, 0, 0, 0, 0, 0, 0, 0, 0, 0, 0, 0, 0, 0, 0, 0, 0, 0, 0, 0, 0, 0, 0, 0, 0, 0, 0, 0, 0, 0, 0, 0, 0, 0, 0, 0, 0, 0, 0, 0, 0, 0, 0, 0, 0, 0, 0, 0, 0, 0, 0, 0, 0, 0, 0, 0]\n",
      "1456\n",
      "['21059975', \" , Detailed content of Matthew , 1. Birth Stories , Genealogy (1:1–17) , Nativity (1:18–25) , Biblical Magi (2:1–12) , Flight into Egypt (2:13–20) , Jesus in Nazareth (2:21–23) , 2. Baptism and early ministry , John the Baptist (3:1–12) , Baptism of Jesus (3:13–17) , Temptation of Jesus (4:1–11) , Capernaum (4:12–17) , First disciples of Jesus (4:18–22) , Galilee preaching tour (4:23–25) , 3. Sermon on the Mount (5–7) , 4. Healing and miracles , Healing many (8:1–17) , Foxes have holes (8:18–20) , Let the dead bury the dead (8:21–22) , Calming the storm (8:23–27) , Gadarene demoniacs (8:28–34) , Healing a paralytic (9:1–8) , Calling of Matthew (9:9–13) , On fasting (9:14–15) , New Wine into Old Wineskins (9:16–17) , Daughter of Jairus (9:18–26) , Two blind men (9:27–31) , Exorcising a mute (9:32–34) , Good crop but few harvesters (9:35–38) , 5. Little Commission (10:1–11:1) , 6. Responses to Jesus , Messengers from John the Baptist (11:2–19) , Cursing Chorazin, Bethsaida, and Capernaum (11:20–24) , Praising the Father (11:25–30) , Lord of the Sabbath (12:1–8) , Man with withered hand (12:9–14) , Chosen servant (12:15–21) , Blind-mute man (12:22–28) , Strong man (12:29) , Those not with me are against me (12:30) , Unforgivable sin (12:31–32) , The Tree and its Fruits (12:33–37) , Request for a sign (12:38–42) , Return of the unclean spirit (12:43–45) , Jesus' true relatives (12:46–50) , Parabolic Discourse (13:1–52) , 7. Conflicts, rejections, and conferences with disciples , Hometown rejection (13:53–58) , Death of John the Baptist (14:1–12) , Feeding the 5000 (14:13–21) , Walking on water (14:22–33) , Fringe of his cloak heals (14:34–36) , Discourse on Defilement (15:1–20) , Canaanite woman's daughter (15:21–28) , Healing on a mountain (15:29–31) , Feeding the 4000 (15:32–39) , Sign of Jonah (16:1–4) , Beware of yeast (16:5–12) , Peter's confession (16:13–20) , Jesus predicts his death (16:21–28,17:22–23,20:17–19) , Transfiguration (17:1–13) , Possessed boy (17:14–21) , Coin in the fish's mouth (17:24–27) , 8. Life in the Christian community , The Little Children (18:1–7) , If thy hand offend thee (18:8–9) , The Lost Sheep (18:10–14) , Binding and loosing (18:15–22) , Unmerciful Servant (18:23–35) , 9. Journey to Jerusalem , Entering Judea (19:1–2) , Divorce (19:3–9) , Celibacy (19:10–12) , Little Children Blessed (19:13–15) , Jesus and the rich young man (19:16–30) , Parable of the Workers in the Vineyard (20:1–16) , Son of man came to serve (20:20–28) , Blind near Jericho (20:29–34) , 10. Jerusalem, cleansing of the temple, debates , Triumphal entry into Jerusalem (21:1–11) , Temple incident (21:12–17) , Cursing the fig tree (21:18–22) , Authority questioned (21:23–27) , The Two Sons, The Wicked Husbandman, Parable of the Wedding Feast (21:28–22:14) , Render unto Caesar... (22:15–22) , Resurrection of the Dead (22:23–33) , Great Commandment (22:34–40) , Is the Messiah the son of David? (22:41–46) , 11. Woes of the Pharisees (23:1–39) , 12. Judgment day , Little Apocalypse (24) , Parables of the Ten Virgins, Talents (25:1–30) , Judgment of the Nations (25:31–46) , 13. Trial, crucifixion, resurrection , Plot to kill Jesus (26:1–5) , Anointing of Jesus (26:6–13) , Bargain of Judas (26:14-16) , Last Supper (26:17–30) , Denial of Peter (26:31–35,69–75) , Agony in the Garden (26:36-46) , Kiss of Judas (26:47-49) , Arrest (26:50–56) , Before the High Priest (26:57–68) , Pilate's court (27:1–2,11–26) , Death of Judas (27:3-10) , Soldiers mock Jesus (27:27–31) , Simon of Cyrene (27:32) , Crucifixion (27:33–56) , Entombment (27:57–61) , Guarding the tomb (27:62–66,28:11–15) , Empty tomb (28:1–6) , Appearance to the women (28:7–10) , Great Commission (28:16–20) This box: view talk edit [SEP] ,,,,,,,,,,,,,,\", 'Gospel of Matthew']\n"
     ]
    }
   ],
   "source": [
    "for i,column_embedding in enumerate(data):\n",
    "    max_col = max(column_embedding)\n",
    "    if max_col > 100:\n",
    "        print(column_embedding)\n",
    "        print(len(column_embedding))\n",
    "        print(tb_passage_list[i])\n",
    "        break"
   ]
  },
  {
   "cell_type": "code",
   "execution_count": 31,
   "id": "6d4f2263-308b-41ea-99c8-1fb9e92b8f7e",
   "metadata": {},
   "outputs": [
    {
     "data": {
      "text/plain": [
       "129"
      ]
     },
     "execution_count": 31,
     "metadata": {},
     "output_type": "execute_result"
    }
   ],
   "source": [
    "tst = \" , Detailed content of Matthew , 1. Birth Stories , Genealogy (1:1–17) , Nativity (1:18–25) , Biblical Magi (2:1–12) , Flight into Egypt (2:13–20) , Jesus in Nazareth (2:21–23) , 2. Baptism and early ministry , John the Baptist (3:1–12) , Baptism of Jesus (3:13–17) , Temptation of Jesus (4:1–11) , Capernaum (4:12–17) , First disciples of Jesus (4:18–22) , Galilee preaching tour (4:23–25) , 3. Sermon on the Mount (5–7) , 4. Healing and miracles , Healing many (8:1–17) , Foxes have holes (8:18–20) , Let the dead bury the dead (8:21–22) , Calming the storm (8:23–27) , Gadarene demoniacs (8:28–34) , Healing a paralytic (9:1–8) , Calling of Matthew (9:9–13) , On fasting (9:14–15) , New Wine into Old Wineskins (9:16–17) , Daughter of Jairus (9:18–26) , Two blind men (9:27–31) , Exorcising a mute (9:32–34) , Good crop but few harvesters (9:35–38) , 5. Little Commission (10:1–11:1) , 6. Responses to Jesus , Messengers from John the Baptist (11:2–19) , Cursing Chorazin, Bethsaida, and Capernaum (11:20–24) , Praising the Father (11:25–30) , Lord of the Sabbath (12:1–8) , Man with withered hand (12:9–14) , Chosen servant (12:15–21) , Blind-mute man (12:22–28) , Strong man (12:29) , Those not with me are against me (12:30) , Unforgivable sin (12:31–32) , The Tree and its Fruits (12:33–37) , Request for a sign (12:38–42) , Return of the unclean spirit (12:43–45) , Jesus' true relatives (12:46–50) , Parabolic Discourse (13:1–52) , 7. Conflicts, rejections, and conferences with disciples , Hometown rejection (13:53–58) , Death of John the Baptist (14:1–12) , Feeding the 5000 (14:13–21) , Walking on water (14:22–33) , Fringe of his cloak heals (14:34–36) , Discourse on Defilement (15:1–20) , Canaanite woman's daughter (15:21–28) , Healing on a mountain (15:29–31) , Feeding the 4000 (15:32–39) , Sign of Jonah (16:1–4) , Beware of yeast (16:5–12) , Peter's confession (16:13–20) , Jesus predicts his death (16:21–28,17:22–23,20:17–19) , Transfiguration (17:1–13) , Possessed boy (17:14–21) , Coin in the fish's mouth (17:24–27) , 8. Life in the Christian community , The Little Children (18:1–7) , If thy hand offend thee (18:8–9) , The Lost Sheep (18:10–14) , Binding and loosing (18:15–22) , Unmerciful Servant (18:23–35) , 9. Journey to Jerusalem , Entering Judea (19:1–2) , Divorce (19:3–9) , Celibacy (19:10–12) , Little Children Blessed (19:13–15) , Jesus and the rich young man (19:16–30) , Parable of the Workers in the Vineyard (20:1–16) , Son of man came to serve (20:20–28) , Blind near Jericho (20:29–34) , 10. Jerusalem, cleansing of the temple, debates , Triumphal entry into Jerusalem (21:1–11) , Temple incident (21:12–17) , Cursing the fig tree (21:18–22) , Authority questioned (21:23–27) , The Two Sons, The Wicked Husbandman, Parable of the Wedding Feast (21:28–22:14) , Render unto Caesar... (22:15–22) , Resurrection of the Dead (22:23–33) , Great Commandment (22:34–40) , Is the Messiah the son of David? (22:41–46) , 11. Woes of the Pharisees (23:1–39) , 12. Judgment day , Little Apocalypse (24) , Parables of the Ten Virgins, Talents (25:1–30) , Judgment of the Nations (25:31–46) , 13. Trial, crucifixion, resurrection , Plot to kill Jesus (26:1–5) , Anointing of Jesus (26:6–13) , Bargain of Judas (26:14-16) , Last Supper (26:17–30) , Denial of Peter (26:31–35,69–75) , Agony in the Garden (26:36-46) , Kiss of Judas (26:47-49) , Arrest (26:50–56) , Before the High Priest (26:57–68) , Pilate's court (27:1–2,11–26) , Death of Judas (27:3-10) , Soldiers mock Jesus (27:27–31) , Simon of Cyrene (27:32) , Crucifixion (27:33–56) , Entombment (27:57–61) , Guarding the tomb (27:62–66,28:11–15) , Empty tomb (28:1–6) , Appearance to the women (28:7–10) , Great Commission (28:16–20) This box: view talk edit [SEP]\"\n",
    "tst.count(\",\")"
   ]
  },
  {
   "cell_type": "code",
   "execution_count": null,
   "id": "a99aea38-d5fc-4ac6-8595-633d39c43e94",
   "metadata": {},
   "outputs": [],
   "source": [
    "tableId = \"Ontario Highway 401_1E7ECA581783FED3\"\n"
   ]
  }
 ],
 "metadata": {
  "kernelspec": {
   "display_name": "Python 3 (ipykernel)",
   "language": "python",
   "name": "python3"
  },
  "language_info": {
   "codemirror_mode": {
    "name": "ipython",
    "version": 3
   },
   "file_extension": ".py",
   "mimetype": "text/x-python",
   "name": "python",
   "nbconvert_exporter": "python",
   "pygments_lexer": "ipython3",
   "version": "3.8.11"
  }
 },
 "nbformat": 4,
 "nbformat_minor": 5
}
