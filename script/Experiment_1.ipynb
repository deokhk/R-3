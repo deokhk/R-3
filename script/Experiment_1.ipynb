{
 "cells": [
  {
   "cell_type": "code",
   "execution_count": 51,
   "id": "95da603f-f0c3-47b8-90c1-9cf1654e1211",
   "metadata": {},
   "outputs": [],
   "source": [
    "import generate_retrieval_dataset"
   ]
  },
  {
   "cell_type": "code",
   "execution_count": 52,
   "id": "24f1fe7e-b354-4c35-815e-2795ec06f1c5",
   "metadata": {
    "tags": []
   },
   "outputs": [
    {
     "name": "stdout",
     "output_type": "stream",
     "text": [
      "Successfully loaded the interaction file. Length of the list: 11628\n",
      "Number of questions collected from interaction file: 11628\n",
      "Saving interaction file with question only ...  \n",
      "==== Now filtering table_QA dataset ====\n",
      "Length before filtering: 11628\n",
      "Length after filtering: 8768\n"
     ]
    }
   ],
   "source": [
    "merged_nq_table_data_loc = \"/home/deokhk/research/MultiQA/dataset/NQ_tables/interactions/merged_interaction.json\"\n",
    "dpr_nq_train_data_loc = \"/home/deokhk/research/MultiQA/model/DPR/dpr/downloads/data/retriever/nq-train.json\"\n",
    "dpr_nq_dev_data_loc = \"/home/deokhk/research/MultiQA/model/DPR/dpr/downloads/data/retriever/nq-dev.json\"\n",
    "original_nq_train_data_loc = \"/home/deokhk/research/MultiQA/model/DPR/dpr/downloads/data/retriever/qas/nq-train.csv\"\n",
    "original_nq_dev_data_loc = \"/home/deokhk/research/MultiQA/model/DPR/dpr/downloads/data/retriever/qas/nq-dev.csv\"\n",
    "original_nq_test_data_loc = \"/home/deokhk/research/MultiQA/model/DPR/dpr/downloads/data/retriever/qas/nq-test.csv\"\n",
    "\n",
    "table_q_list = generate_retrieval_dataset.extract_q_from_interaction_file_and_save(merged_nq_table_data_loc)\n",
    "filtered_table_q_list = generate_retrieval_dataset.filter_and_save_table_qa_dataset(table_q_list, original_nq_train_data_loc, original_nq_dev_data_loc, merged_nq_table_data_loc)\n"
   ]
  },
  {
   "cell_type": "code",
   "execution_count": 50,
   "id": "1be2abb9-73b0-4567-95da-a62c3142bcbb",
   "metadata": {},
   "outputs": [
    {
     "data": {
      "text/plain": [
       "8768"
      ]
     },
     "execution_count": 50,
     "metadata": {},
     "output_type": "execute_result"
    }
   ],
   "source": [
    "merged_interaction = "
   ]
  },
  {
   "cell_type": "markdown",
   "id": "80e76e87-65fd-4a7d-8df1-c353d8b6f0bc",
   "metadata": {},
   "source": [
    "## Experiment 1: 기존에 DPR을 학습할 때 사용한 dataset과 table dataset간의 overllap이 존재함. overllap이 존재하는 example의 예시를 보자."
   ]
  },
  {
   "cell_type": "code",
   "execution_count": 18,
   "id": "c48b16db-613c-4131-afb8-a271dc7b8983",
   "metadata": {},
   "outputs": [],
   "source": [
    "# 우선, 각 interaction data의 format부터 볼까..\n",
    "import json\n",
    "with open(\"/home/deokhk/research/MultiQA/dataset/NQ_tables/interactions/merged_interaction.json\", 'r') as f:\n",
    "    merged_interaction_list = json.load(f)"
   ]
  },
  {
   "cell_type": "code",
   "execution_count": 53,
   "id": "fc746d91-962a-4a17-8e9a-940a26ebbd68",
   "metadata": {},
   "outputs": [
    {
     "name": "stdout",
     "output_type": "stream",
     "text": [
      "list form: 11628, set form: 11520\n"
     ]
    }
   ],
   "source": [
    "mi_list_form = []\n",
    "for it_object in merged_interaction_list:\n",
    "    it_object = json.loads(it_object)\n",
    "    tmp = it_object\n",
    "    mi_list_form.append(tmp[\"questions\"][0][\"originalText\"])\n",
    "print(f\"list form: {len(mi_list_form)}, set form: {len(set(mi_list_form))}\")"
   ]
  },
  {
   "cell_type": "code",
   "execution_count": 37,
   "id": "d75947db-b95f-4d47-99af-0941ba685e60",
   "metadata": {},
   "outputs": [
    {
     "name": "stdout",
     "output_type": "stream",
     "text": [
      "hello\n"
     ]
    }
   ],
   "source": [
    "tmp[\"questions\"][0][\"originalText\"]\n"
   ]
  },
  {
   "cell_type": "code",
   "execution_count": 60,
   "id": "93866730-895a-4d12-9799-e918f4b0b7ee",
   "metadata": {},
   "outputs": [
    {
     "name": "stdout",
     "output_type": "stream",
     "text": [
      "who won the 2015 ncaa men's basketball championship\n",
      "who won men's figure skating at the olympics\n",
      "what is the life expectancy of an english mastiff\n",
      "what percent of gdp is spent on education in india\n",
      "who played the chicago cubs in the world series last year\n",
      "who played in the nba finals in 1994\n",
      "who has the most wins in college history\n",
      "where do the majority of apples come from\n",
      "who's leading in the world series 2017\n",
      "where do the largest concentrations of asian and pacific islanders live in the united states\n",
      "who has won the second most world series\n",
      "how many runs sachin scored in his odi debut\n",
      "who's going to the baseball world series\n",
      "who did the cubs play in the nlcs last year\n",
      "who has the best winning percentage in college football\n",
      "who won the baseball world series in 2017\n",
      "what age do king charles cavaliers live to\n",
      "how much of the gdp does nepal spend on education\n",
      "who produces the most apples in the world\n",
      "whats the latest version of google play store\n",
      "who won the 2017 world series of baseball\n",
      "how many passing yards does aaron rodgers have in his career\n",
      "who has won the world series the most\n",
      "where does the full stop go with speech marks\n",
      "average life expectancy for a west highland terrier\n",
      "who won the fight with floyd mayweather and pacquiao\n",
      "who won the ncaa basketball championship in 2015\n",
      "who did the cubs beat in the 2016 world series\n",
      "who did the dodgers face in 1988 world series\n",
      "who's winning the world series in 2017\n",
      "how much does us spend on education gdp\n",
      "how many republicans and how many democrats are in the senate\n",
      "what is the average litter size for a chihuahua\n",
      "who did the astros beat in the world series\n",
      "who did louisville beat for the 2013 national championship\n",
      "last time an nhl team came back from 3-0 in playoffs\n",
      "who won the 2017 qatar motogp grand prix\n",
      "who has won the most world series in the national league\n",
      "who did the detroit pistons beat in the nba finals\n",
      "how many goals did david beckham scored for real madrid\n",
      "how many career touchdowns does julio jones have\n",
      "who won the 100 meter dash in the 2016 olympics\n",
      "who is leading the world series in baseball\n",
      "who won medals in mens skating 2018 olympics\n",
      "who did the warriors play last year in the finals\n",
      "who did kobe bryant beat in the finals\n",
      "who won the first ever basketball gold medal\n",
      "who do the dbacks play in the wild card game\n",
      "what is the average lifespan of a newfoundland\n",
      "when did pioneer 10 leave the solar system\n",
      "who did the cubs beat last year in the world series\n",
      "who is the captain of the toronto raptors\n",
      "who won the ncaa men's championship game\n",
      "largest producer of apple in the world 2017\n",
      "how many puppies do olde english bulldogs have\n",
      "who won the sec championship in football this year\n",
      "how many puppies can a newfoundland dog have\n",
      "who has the best winning percentage in college football history\n",
      "the point in the moons orbit when its farthest away from earth is called\n",
      "who did the cubs play in the first round of the playoffs in 2016\n",
      "who won gold medal in high jump rio\n",
      "who is the oldest wrestler that is still wrestling\n",
      "who is the premier of northern cape 2018\n",
      "which is the first private medical college in kerala\n",
      "who won the medals in men's figure skating 2018\n",
      "who has become the new chairman of sebi\n",
      "when was last time bayern munich won champions league\n",
      "who is the richest club in the championship\n",
      "how many scholarships do division 2 football teams get\n",
      "what is the pirates of the caribbean in order\n",
      "when is the last time the jaguars won a playoff game\n",
      "when is the last time the jaguars won a playoff game\n",
      "who has won the most college football national champions\n",
      "what's the average lifespan of a basset hound\n",
      "who has been appointed as the election commissioner of india\n",
      "who won entertainer of the year country music awards\n",
      "when did michigan last win a national championship\n",
      "who won the mens figure skating in 2018 olympics\n",
      "who represents the arizona 9th district in the house\n",
      "what was vietnam called in the years before world war 2\n",
      "most passing yards in nfl history in a game\n",
      "what was the last episode of the flash\n",
      "who is the secretary of state for northern ireland\n",
      "host of the late show who was once a correspondent for the daily show\n",
      "who won the mens single ice skating 2018\n",
      "who won the mens single ice skating 2018\n",
      "who won last year's ncaa women's basketball\n",
      "when was the last time america hosted the summer olympics\n",
      "when's the last time michigan won a national championship in basketball\n",
      "where did zendaya place in dancing with the stars\n",
      "who is the highest selling r&b artist of all time\n",
      "who is the chief economic advisor of india\n",
      "who did cubs beat in 2016 world series\n",
      "who has played in the most premier league derbies\n",
      "what is the most current adobe flash player version\n",
      "who has won more national championships michigan or ohio state\n",
      "when does grey's anatomy come back on in march\n",
      "who won the american league pennant in 2017\n",
      "chief ministers of tamil nadu mentioned on wikipedia\n",
      "the secret of crickley hall how many episodes\n",
      "when was the last time an american won the new york marathon\n",
      "who is the longest serving member of the house in history\n",
      "where does the path train stop in newark\n",
      "when is the new dumping ground coming out 2017\n",
      "when was the last time michigan basketball won the championship\n",
      "when was the last time michigan basketball won the championship\n",
      "who plays lefou in beauty and the beast 1991\n",
      "who won the national championship in volleyball 2017\n"
     ]
    }
   ],
   "source": [
    "question_that_appeared = set()\n",
    "for it_object in merged_interaction_list:\n",
    "    it_object = json.loads(it_object)\n",
    "    q = it_object[\"questions\"][0][\"originalText\"].strip()\n",
    "    if q in question_that_appeared:\n",
    "        print(q)\n",
    "    else:\n",
    "        question_that_appeared.add(q)\n"
   ]
  },
  {
   "cell_type": "code",
   "execution_count": 61,
   "id": "584c7066-3392-4018-bdb9-1514694cfc57",
   "metadata": {},
   "outputs": [
    {
     "name": "stdout",
     "output_type": "stream",
     "text": [
      "=====================================\n",
      "{'id': 'train_2475196988721992244_0', 'table': {'columns': [{'text': ''}, {'text': 'Venue'}, {'text': 'Dates'}, {'text': 'Competitors'}, {'text': 'Winning score'}, {'text': 'Medalists'}, {'text': '01 ! Yuzuru Hanyu \\xa0Japan 02 ! Shoma Uno \\xa0Japan 03 ! Javier Fernández \\xa0Spain'}, {'text': '01 !'}, {'text': '02 !'}, {'text': '03 !'}, {'text': '←\\xa02014 2022\\xa0→'}], 'rows': [{'cells': [{'text': \"Men's singles at the XXIII Olympic Winter Games\"}, {'text': 'Gangneung Ice Arena Gangneung, South Korea  '}, {'text': '16–17 February  '}, {'text': '30\\xa0from 21\\xa0nations  '}, {'text': '317.85  '}, {'text': 'Medalists  '}, {'text': '01 ! Yuzuru Hanyu \\xa0Japan 02 ! Shoma Uno \\xa0Japan 03 ! Javier Fernández \\xa0Spain  '}, {'text': ' Yuzuru Hanyu Japan'}, {'text': ' Shoma Uno Japan'}, {'text': ' Javier Fernández Spain'}, {'text': '←\\xa02014 2022\\xa0→  '}]}], 'tableId': \"Figure skating at the 2018 Winter Olympics – Men's singles_63D1C10198C81DAA\", 'documentTitle': \"Figure skating at the 2018 Winter Olympics – Men's singles\", 'documentUrl': 'https://en.wikipedia.org//w/index.php?title=Figure_skating_at_the_2018_Winter_Olympics_%E2%80%93_Men%27s_singles&amp;oldid=833477722'}, 'questions': [{'id': 'train_2475196988721992244_0_0', 'originalText': \"who won men's figure skating at the olympics\", 'answer': {'answerTexts': ['Yuzuru Hanyu']}}]}\n",
      "=====================================\n",
      "{'id': 'train_2475196988721992244_0', 'table': {'columns': [{'text': ''}, {'text': '01 !'}, {'text': '02 !'}, {'text': '03 !'}], 'rows': [{'cells': [{'text': '0'}, {'text': ' Yuzuru Hanyu Japan'}, {'text': ' Shoma Uno Japan'}, {'text': ' Javier Fernández Spain'}]}], 'tableId': \"Figure skating at the 2018 Winter Olympics – Men's singles_B769E8342ECCED96\", 'documentTitle': \"Figure skating at the 2018 Winter Olympics – Men's singles\", 'documentUrl': 'https://en.wikipedia.org//w/index.php?title=Figure_skating_at_the_2018_Winter_Olympics_%E2%80%93_Men%27s_singles&amp;oldid=833477722'}, 'questions': [{'id': 'train_2475196988721992244_0_0', 'originalText': \"who won men's figure skating at the olympics\", 'answer': {'answerTexts': ['Yuzuru Hanyu']}}]}\n"
     ]
    }
   ],
   "source": [
    "question_that_appeared = set()\n",
    "for it_object in merged_interaction_list:\n",
    "    it_object = json.loads(it_object)\n",
    "    q = it_object[\"questions\"][0][\"originalText\"].strip()\n",
    "    if q==\"who won men's figure skating at the olympics\":\n",
    "        print(\"=====================================\")\n",
    "        print(it_object)"
   ]
  },
  {
   "cell_type": "code",
   "execution_count": 62,
   "id": "46b37086-fcd5-4b33-ba83-2106c359c39e",
   "metadata": {},
   "outputs": [],
   "source": [
    "tmp = 0\n",
    "for it_object in merged_interaction_list:\n",
    "    it_object = json.loads(it_object)\n",
    "    tmp = it_object\n",
    "    break"
   ]
  },
  {
   "cell_type": "code",
   "execution_count": 65,
   "id": "3c7c43e3-df3a-4dee-a7ee-8cd0e3f3192e",
   "metadata": {},
   "outputs": [
    {
     "name": "stdout",
     "output_type": "stream",
     "text": [
      "{'cells': [{'text': '1'}, {'text': 'Brazil'}, {'text': '8,233'}, {'text': '2011'}]}\n"
     ]
    }
   ],
   "source": [
    "rows = tmp[\"table\"][\"rows\"]\n",
    "for row in rows:\n",
    "    print(row)\n",
    "    break"
   ]
  },
  {
   "cell_type": "code",
   "execution_count": null,
   "id": "27844af0-442b-4c59-8108-718613d8f5b7",
   "metadata": {},
   "outputs": [],
   "source": []
  }
 ],
 "metadata": {
  "kernelspec": {
   "display_name": "Python 3 (ipykernel)",
   "language": "python",
   "name": "python3"
  },
  "language_info": {
   "codemirror_mode": {
    "name": "ipython",
    "version": 3
   },
   "file_extension": ".py",
   "mimetype": "text/x-python",
   "name": "python",
   "nbconvert_exporter": "python",
   "pygments_lexer": "ipython3",
   "version": "3.8.11"
  }
 },
 "nbformat": 4,
 "nbformat_minor": 5
}
